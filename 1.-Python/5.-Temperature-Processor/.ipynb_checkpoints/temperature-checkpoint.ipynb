{
 "cells": [
  {
   "cell_type": "markdown",
   "metadata": {},
   "source": [
    "<img src=\"https://bit.ly/2VnXWr2\" width=\"100\" align=\"left\">"
   ]
  },
  {
   "cell_type": "markdown",
   "metadata": {},
   "source": [
    "# Temperature Sensor\n",
    "\n",
    "There is a temperature sensor in the processor of your company's server. The company wants to analyze the data provided by the sensor to decide if they should change the cooling system for a better one. As changing the cooling system is expensive and you are an excellent data analyst, you can't make a decision without basis.\n",
    "\n",
    "## Tools\n",
    "You don't necessarily need to use all the tools. Maybe you opt to use some of them or completely different ones, they are given to help you shape the exercise. Programming exercises can be solved in many different ways.\n",
    "1. Data structures: **lists**\n",
    "2. Loops: **list comprehension**\n",
    "3. Functions: **min, max, print, len**\n",
    "4. Conditional statements: **if-elif-else**\n",
    "\n",
    "## Tasks\n",
    "The temperatures measured throughout the 24 hours of a day are:"
   ]
  },
  {
   "cell_type": "code",
   "execution_count": 1,
   "metadata": {},
   "outputs": [],
   "source": [
    "temperatures_C = [33, 66, 65, 0, 59, 60, 62, 64, 70, 76, 80, 81, 80, 83, 90, 79, 61, 53, 50, 49, 53, 48, 45, 39]"
   ]
  },
  {
   "cell_type": "markdown",
   "metadata": {},
   "source": [
    "The first element of the list is the temperature at 12am, the second element is the temperature at 1am, and so on. \n",
    "\n",
    "The company has decided that if one of the following events occurs, then the cooling system needs to be replaced for a new one to avoid damaging the processor.\n",
    "* More than 4 temperatures are greater than or equal to 70ºC.\n",
    "* Any temperature is above 80ºC.\n",
    "* The average temperature exceeds 65ºC.\n",
    "\n",
    "Follow the steps so that you can make the decision.\n",
    "\n",
    "#### 1. Find the minimum temperature of the day and store it in a variable."
   ]
  },
  {
   "cell_type": "code",
   "execution_count": 2,
   "metadata": {},
   "outputs": [
    {
     "name": "stdout",
     "output_type": "stream",
     "text": [
      "Minimum temperature: 0\n"
     ]
    }
   ],
   "source": [
    "min_temperature = min (temperatures_C)\n",
    "print (\"Minimum temperature:\", min_temperature)"
   ]
  },
  {
   "cell_type": "markdown",
   "metadata": {},
   "source": [
    "#### 2. Find the maximum temperature of the day and store it in a variable."
   ]
  },
  {
   "cell_type": "code",
   "execution_count": 3,
   "metadata": {},
   "outputs": [
    {
     "name": "stdout",
     "output_type": "stream",
     "text": [
      "Maximum temperature: 90\n"
     ]
    }
   ],
   "source": [
    "max_temperature = max (temperatures_C)\n",
    "print (\"Maximum temperature:\", max_temperature)"
   ]
  },
  {
   "cell_type": "markdown",
   "metadata": {},
   "source": [
    "#### 3. Create a list with the temperatures that are greater than or equal to 70ºC. Store it in a variable."
   ]
  },
  {
   "cell_type": "code",
   "execution_count": 4,
   "metadata": {},
   "outputs": [
    {
     "name": "stdout",
     "output_type": "stream",
     "text": [
      "[70, 76, 80, 81, 80, 83, 90, 79]\n"
     ]
    }
   ],
   "source": [
    "high_temperature = []\n",
    "\n",
    "for t in temperatures_C:\n",
    "    if t >= 70:\n",
    "        high_temperature.append(t)\n",
    "\n",
    "print (high_temperature)"
   ]
  },
  {
   "cell_type": "markdown",
   "metadata": {},
   "source": [
    "#### 4. Find the average temperature of the day and store it in a variable."
   ]
  },
  {
   "cell_type": "code",
   "execution_count": 5,
   "metadata": {},
   "outputs": [
    {
     "name": "stdout",
     "output_type": "stream",
     "text": [
      "Average temperature: 60.25\n"
     ]
    }
   ],
   "source": [
    "average_temperature = sum (temperatures_C) / len (temperatures_C)\n",
    "\n",
    "print (\"Average temperature:\", average_temperature)"
   ]
  },
  {
   "cell_type": "markdown",
   "metadata": {},
   "source": [
    "#### 5. Imagine that there was a sensor failure at 3am and the data for that specific hour was not recorded. How would you estimate the missing value? Replace the current value of the list at 3am for an estimation. "
   ]
  },
  {
   "cell_type": "code",
   "execution_count": 6,
   "metadata": {},
   "outputs": [
    {
     "name": "stdout",
     "output_type": "stream",
     "text": [
      "[33, 66, 65, 62, 59, 60, 62, 64, 70, 76, 80, 81, 80, 83, 90, 79, 61, 53, 50, 49, 53, 48, 45, 39]\n"
     ]
    }
   ],
   "source": [
    "sensor_failure_at = 3\n",
    "\n",
    "temperatures_C[sensor_failure_at] = int((temperatures_C[sensor_failure_at-1] + temperatures_C[sensor_failure_at+1])/2)\n",
    "\n",
    "print (temperatures_C)"
   ]
  },
  {
   "cell_type": "markdown",
   "metadata": {},
   "source": [
    "#### 6. Bonus: the maintenance staff is from the United States and does not understand the international metric system. Help them by converting the temperatures from Celsius to Fahrenheit.\n",
    "To know more about temperature conversion check this [link](https://en.wikipedia.org/wiki/Conversion_of_units_of_temperature).\n",
    "\n",
    "**Formula**: \n",
    "\n",
    "$F = 1.8 * C + 32$"
   ]
  },
  {
   "cell_type": "code",
   "execution_count": 7,
   "metadata": {},
   "outputs": [
    {
     "name": "stdout",
     "output_type": "stream",
     "text": [
      "Option 1: [91.4, 150.8, 149.0, 143.60000000000002, 138.2, 140.0, 143.60000000000002, 147.2, 158.0, 168.8, 176.0, 177.8, 176.0, 181.4, 194.0, 174.20000000000002, 141.8, 127.4, 122.0, 120.2, 127.4, 118.4, 113.0, 102.2]\n",
      "Option 2: [91.4, 150.8, 149.0, 143.60000000000002, 138.2, 140.0, 143.60000000000002, 147.2, 158.0, 168.8, 176.0, 177.8, 176.0, 181.4, 194.0, 174.20000000000002, 141.8, 127.4, 122.0, 120.2, 127.4, 118.4, 113.0, 102.2]\n"
     ]
    }
   ],
   "source": [
    "Fahrenheit_temp_1 = [1.8*C+32 for C in temperatures_C]\n",
    "print (\"Option 1:\", Fahrenheit_temp_1)\n",
    "\n",
    "# other way to solve the problem\n",
    "\n",
    "Fahrenheit_temp_2 = []\n",
    "for C in temperatures_C:\n",
    "    Fahrenheit_temp_2.append(1.8*C+32)\n",
    "print (\"Option 2:\", Fahrenheit_temp_2)"
   ]
  },
  {
   "cell_type": "markdown",
   "metadata": {},
   "source": [
    "#### 7. Make a decision!\n",
    "Now it's time to make a decision taking into account what you have seen until now. \n",
    "\n",
    "Remember that if one of the following events occurs, then the cooling system needs to be replaced for a new one to avoid damaging the processor.\n",
    "* More than 4 temperatures are greater than or equal to 70ºC.\n",
    "* Any temperature is above 80ºC.\n",
    "* The average temperature exceeds 65ºC.\n",
    "\n",
    "#### To make your decision, check if any of the three conditions above is met. You might need to use some of the variables you created in steps 1 to 6. Print a message to show if the cooling system needs to be changed or not."
   ]
  },
  {
   "cell_type": "code",
   "execution_count": 8,
   "metadata": {},
   "outputs": [
    {
     "name": "stdout",
     "output_type": "stream",
     "text": [
      "Condition 1 was verified\n",
      "Condition 2 was verified\n",
      "Condition 3 was not verified\n",
      "The cooling system needs to be replaced due to 2 bad conditions occured\n"
     ]
    }
   ],
   "source": [
    "# More than 4 temperatures are greater than or equal to 70ºC\n",
    "\n",
    "condition_occured = 0\n",
    "if len(high_temperature) > 4:\n",
    "    print (\"Condition 1 was verified\")\n",
    "    condition_occured += 1\n",
    "else:\n",
    "    print (\"Condition 1 was not verified\")\n",
    "\n",
    "\n",
    "# Any temperature is above 80ºC   \n",
    "if sum (t > 80 for t in temperatures_C) >= 1:\n",
    "    print (\"Condition 2 was verified\")\n",
    "    condition_occured += 1\n",
    "else:\n",
    "    print (\"Condition 2 was not verified\")\n",
    "    \n",
    "    \n",
    "#The average temperature exceeds 65ºC   \n",
    "if sum (temperatures_C) / len (temperatures_C) > 65:\n",
    "    print (\"Condition 3 was verified\")\n",
    "    condition_occured += 1\n",
    "else:\n",
    "    print (\"Condition 3 was not verified\")\n",
    "\n",
    "\n",
    "    \n",
    "if condition_occured > 0:\n",
    "    print (\"The cooling system needs to be replaced due to %d bad conditions occured\" %(condition_occured))\n",
    "else:\n",
    "    print (\"The cooling system doesn't need to be replaced\")"
   ]
  },
  {
   "cell_type": "markdown",
   "metadata": {},
   "source": [
    "## Bonus\n",
    "\n",
    "The company has decided that the decision you made is not valid. They want you to analyze the data again but this time, the conditions that need to be met in order to change the cooling system are different.\n",
    "\n",
    "This time, if one of the following events occurs, then the cooling system needs to be replaced:\n",
    "* The temperature is greater than 70ºC during more than 4 consecutive hours.\n",
    "* Any temperature is above 80ºC.\n",
    "* The average temperature exceeds 65ºC.\n",
    "\n",
    "Follow the steps so that you can make the decision.\n",
    "\n",
    "#### 1. Create a list with the hours where the temperature is greater than 70ºC. Store it in a variable."
   ]
  },
  {
   "cell_type": "code",
   "execution_count": 9,
   "metadata": {},
   "outputs": [
    {
     "name": "stdout",
     "output_type": "stream",
     "text": [
      "[9, 10, 11, 12, 13, 14, 15]\n",
      "[9, 10, 11, 12, 13, 14, 15]\n"
     ]
    }
   ],
   "source": [
    "#Python’s built-in enumerate function allows us to loop over a list and retrieve both the index and the value\n",
    "# of each item in the list\n",
    "\n",
    "high_temp_hour = []\n",
    "for index, t in enumerate(temperatures_C):\n",
    "    if t > 70:\n",
    "        high_temp_hour.append(index)\n",
    "\n",
    "print (high_temp_hour)\n",
    "\n",
    "# other way more generic\n",
    "\n",
    "hour = 0\n",
    "high_temp_hour2 = []\n",
    "for t in temperatures_C:\n",
    "    if t > 70:\n",
    "        high_temp_hour2.append(hour)\n",
    "    hour += 1\n",
    "print(high_temp_hour2)"
   ]
  },
  {
   "cell_type": "markdown",
   "metadata": {},
   "source": [
    "#### 2. Check if the list you created in step 1 has more than 4 consecutive hours. "
   ]
  },
  {
   "cell_type": "code",
   "execution_count": 10,
   "metadata": {},
   "outputs": [
    {
     "name": "stdout",
     "output_type": "stream",
     "text": [
      "The list has 6 consecutive hours. The condition studied was verified\n"
     ]
    }
   ],
   "source": [
    "consecutive_hours = 0\n",
    "\n",
    "for x in range(len(high_temp_hour)-1):\n",
    "    if (high_temp_hour [x+1] - high_temp_hour [x]) == 1:\n",
    "        consecutive_hours += 1\n",
    "    else:\n",
    "        consecutive_hours = 0\n",
    "if consecutive_hours > 4:\n",
    "    print (\"The list has %d consecutive hours. The condition studied was verified\" %(consecutive_hours))\n",
    "else:\n",
    "    print (\"The list has %d consecutive hours. The condition studied was not verified\" %(consecutive_hours))"
   ]
  },
  {
   "cell_type": "markdown",
   "metadata": {},
   "source": [
    "#### 3. Make the decision!\n",
    "To make your decision, check if any of the three conditions is met. Print a message to show if the cooling system needs to be changed or not."
   ]
  },
  {
   "cell_type": "code",
   "execution_count": 11,
   "metadata": {},
   "outputs": [
    {
     "name": "stdout",
     "output_type": "stream",
     "text": [
      "the cooling system needs to be changed\n"
     ]
    }
   ],
   "source": [
    "if (consecutive_hours > 4) | (sum (t > 80 for t in temperatures_C) >= 1) | (sum (temperatures_C) / len (temperatures_C) > 65):\n",
    "    print (\"the cooling system needs to be changed\")\n",
    "else:\n",
    "    print (\"the cooling system do not need to be changed\")"
   ]
  },
  {
   "cell_type": "markdown",
   "metadata": {},
   "source": [
    "#### 4. Find the average value of the temperature lists (ºC and ºF). What is the relation between both average values?"
   ]
  },
  {
   "cell_type": "code",
   "execution_count": 12,
   "metadata": {},
   "outputs": [
    {
     "name": "stdout",
     "output_type": "stream",
     "text": [
      "Average value of temperature ºC is 62.833333 \n",
      "Average value of temperature ºF is 145.100000 \n",
      "145.10000000000002\n",
      "The relation between both average values is F=1.8C+32\n"
     ]
    }
   ],
   "source": [
    "import statistics\n",
    "\n",
    "Average_tempC = statistics.mean(temperatures_C)\n",
    "Average_tempF = statistics.mean(Fahrenheit_temp_1)\n",
    "Average_tempF2 = 1.8*Average_tempC+32\n",
    "\n",
    "\n",
    "print(\"Average value of temperature ºC is %f \" %(Average_tempC))\n",
    "print(\"Average value of temperature ºF is %f \" %(Average_tempF))\n",
    "print(Average_tempF2)\n",
    "print(\"The relation between both average values is F=1.8C+32\")"
   ]
  },
  {
   "cell_type": "markdown",
   "metadata": {},
   "source": [
    "#### 5. Find the standard deviation of the temperature lists (ºC and ºF). What is the relation between both standard deviations?"
   ]
  },
  {
   "cell_type": "code",
   "execution_count": 13,
   "metadata": {},
   "outputs": [
    {
     "name": "stdout",
     "output_type": "stream",
     "text": [
      "Standard deviation of temperature ºC is 14.948220 \n",
      "Standard deviation of temperature ºF is 26.906796 \n",
      "80.43223217077113\n",
      "There is no relation between both standard deviations.\n"
     ]
    }
   ],
   "source": [
    "import statistics\n",
    "\n",
    "stdev_tempC = statistics.stdev(temperatures_C)\n",
    "stdev_tempF = statistics.stdev(Fahrenheit_temp_1)\n",
    "stdev_tempF2 = 1.8*stdev_tempF+32\n",
    "\n",
    "print(\"Standard deviation of temperature ºC is %f \" %(stdev_tempC))\n",
    "print(\"Standard deviation of temperature ºF is %f \" %(stdev_tempF))\n",
    "print(stdev_tempF2)\n",
    "print(\"There is no relation between both standard deviations.\")"
   ]
  }
 ],
 "metadata": {
  "kernelspec": {
   "display_name": "Python 3",
   "language": "python",
   "name": "python3"
  },
  "language_info": {
   "codemirror_mode": {
    "name": "ipython",
    "version": 3
   },
   "file_extension": ".py",
   "mimetype": "text/x-python",
   "name": "python",
   "nbconvert_exporter": "python",
   "pygments_lexer": "ipython3",
   "version": "3.7.4"
  }
 },
 "nbformat": 4,
 "nbformat_minor": 2
}
