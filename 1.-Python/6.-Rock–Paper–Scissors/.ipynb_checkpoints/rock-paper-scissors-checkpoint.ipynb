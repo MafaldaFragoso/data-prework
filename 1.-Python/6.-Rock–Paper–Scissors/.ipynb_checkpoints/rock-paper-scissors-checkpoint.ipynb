{
 "cells": [
  {
   "cell_type": "markdown",
   "metadata": {},
   "source": [
    "<img src=\"https://bit.ly/2VnXWr2\" width=\"100\" align=\"left\">"
   ]
  },
  {
   "cell_type": "markdown",
   "metadata": {},
   "source": [
    "# Rock, Paper & Scissors\n",
    "\n",
    "Let's play the famous game against our computer. You can check the rules [here](https://en.wikipedia.org/wiki/Rock%E2%80%93paper%E2%80%93scissors). \n",
    "\n",
    "## Task\n",
    "Create a program that imitates the playability of the well known game of rock, paper, scissors. Follow the guidelines provided.\n",
    "\n",
    "## Tools\n",
    "1. Loop: **for/while**\n",
    "2. Functions: **input(), print()...**\n",
    "3. Conditional statements: **if, elif, else**\n",
    "4. Definition of functions. Modular programming\n",
    "5. Import modules\n",
    "\n",
    "**To solve this challenge, the use of functions is recommended.**\n",
    "\n",
    "#### 1. Import the choice function of the random module."
   ]
  },
  {
   "cell_type": "code",
   "execution_count": 1,
   "metadata": {},
   "outputs": [],
   "source": [
    "from random import choice"
   ]
  },
  {
   "cell_type": "markdown",
   "metadata": {},
   "source": [
    "#### 2. Create a list that includes the 3 possible gesture options of the game: 'rock', 'paper' or 'scissors'. Store the list in a variable called `gestures`."
   ]
  },
  {
   "cell_type": "code",
   "execution_count": 2,
   "metadata": {},
   "outputs": [],
   "source": [
    "gestures = ['rock', 'paper', 'scissors']"
   ]
  },
  {
   "cell_type": "markdown",
   "metadata": {},
   "source": [
    "#### 3. Create a variable called `n_rounds` to store the maximum number of rounds to play in a game. \n",
    "Remember that the number of rounds must be odd: 1, 3, 5, ..."
   ]
  },
  {
   "cell_type": "code",
   "execution_count": 3,
   "metadata": {},
   "outputs": [],
   "source": [
    "n_rounds = 5"
   ]
  },
  {
   "cell_type": "markdown",
   "metadata": {},
   "source": [
    "#### 4. Create a variable called `rounds_to_win` to store the number of rounds that a player must win to win the game.\n",
    "**Hint**: the value stored in `rounds_to_win` depends on the value of `n_rounds`. "
   ]
  },
  {
   "cell_type": "code",
   "execution_count": 4,
   "metadata": {},
   "outputs": [
    {
     "name": "stdout",
     "output_type": "stream",
     "text": [
      "3\n"
     ]
    }
   ],
   "source": [
    "rounds_to_win = round((n_rounds/2)+0.01) # the round of 2.5 gets 2, so I've sum 0.01\n",
    "\n",
    "print (rounds_to_win)"
   ]
  },
  {
   "cell_type": "markdown",
   "metadata": {},
   "source": [
    "#### 5. Create two variables to store the number of rounds that the computer and the player have won. Call these variables `cpu_score` and `player_score`."
   ]
  },
  {
   "cell_type": "code",
   "execution_count": 5,
   "metadata": {},
   "outputs": [],
   "source": [
    "cpu_score = 0\n",
    "player_score = 0"
   ]
  },
  {
   "cell_type": "markdown",
   "metadata": {},
   "source": [
    "#### 6. Define a function that randomly returns one of the 3 gesture options.\n",
    "You will use this function to simulate the gesture choice of the computer. "
   ]
  },
  {
   "cell_type": "code",
   "execution_count": 6,
   "metadata": {},
   "outputs": [],
   "source": [
    "def get_random_gestures():\n",
    "    \"This function randomly returns one of the 3 gesture options\"\n",
    "    return (choice(gestures));"
   ]
  },
  {
   "cell_type": "markdown",
   "metadata": {},
   "source": [
    "#### 7. Define a function that asks the player which is the gesture he or she wants to show: 'rock', 'paper' or 'scissors'.\n",
    "The player should only be allowed to choose one of the 3 gesture options. If the player's choice is not rock, paper or scissors, keep asking until it is."
   ]
  },
  {
   "cell_type": "code",
   "execution_count": 7,
   "metadata": {},
   "outputs": [],
   "source": [
    "def ask_player_gesture():\n",
    "    \"This function asks the player which is the gesture he or she wants to show: 'rock', 'paper' or 'scissors\"\n",
    "    while True:\n",
    "        gesture_chosen = input('Choose your gesture: ')\n",
    "        if gesture_chosen in gestures:\n",
    "            return (gesture_chosen)\n",
    "        else:\n",
    "            print (\"Choose rock, paper or scissors\")"
   ]
  },
  {
   "cell_type": "markdown",
   "metadata": {},
   "source": [
    "#### 8. Define a function that checks who won a round. \n",
    "The function should return 0 if there is a tie, 1 if the computer wins and 2 if the player wins."
   ]
  },
  {
   "cell_type": "code",
   "execution_count": 8,
   "metadata": {},
   "outputs": [],
   "source": [
    "def check_winner(player_choice, cpu_choice):\n",
    "    \"This functions checks who won a round\"\n",
    "    if player_choice == cpu_choice:\n",
    "        return (0)\n",
    "    if ((cpu_choice == \"rock\" and player_choice == \"scissors\") or\n",
    "        (cpu_choice == \"paper\" and player_choice == \"rock\") or \n",
    "        (cpu_choice == \"scissors\" and player_choice == \"paper\")):\n",
    "        return (1)\n",
    "    else:\n",
    "        return (2)"
   ]
  },
  {
   "cell_type": "markdown",
   "metadata": {},
   "source": [
    "#### 9. Define a function that prints the choice of the computer, the choice of the player and a message that announces who won the current round. \n",
    "You should also use this function to update the variables that count the number of rounds that the computer and the player have won. The score of the winner increases by one point. If there is a tie, the score does not increase."
   ]
  },
  {
   "cell_type": "code",
   "execution_count": 9,
   "metadata": {},
   "outputs": [],
   "source": [
    "def announce_winner():\n",
    "    \"This function prints the choice of the computer, the choice of the player and who is the winner\"\n",
    "    global player_score, cpu_score\n",
    "    player_choice = ask_player_gesture()\n",
    "    cpu_choice = get_random_gestures()\n",
    "    print (\"cpu choice:\", cpu_choice)\n",
    "    winner = check_winner(player_choice, cpu_choice)\n",
    "    if winner == 0:\n",
    "        print (\"It was a tie\")\n",
    "    elif winner == 1:\n",
    "        print (\"The computer won\")\n",
    "        cpu_score += 1\n",
    "    else:\n",
    "        print (\"The player won\")\n",
    "        player_score += 1"
   ]
  },
  {
   "cell_type": "markdown",
   "metadata": {},
   "source": [
    "#### 10. Now it's time to code the execution of the game using the functions and variables you defined above. \n",
    "\n",
    "First, create a loop structure that repeats while no player reaches the minimum score necessary to win and the number of rounds is less than the maximum number of rounds to play in a game.  \n",
    "\n",
    "Inside the loop, use the functions and variables above to create the execution of a round: ask for the player's choice, generate the random choice of the computer, show the round results, update the scores, etc. "
   ]
  },
  {
   "cell_type": "code",
   "execution_count": 12,
   "metadata": {},
   "outputs": [
    {
     "name": "stdout",
     "output_type": "stream",
     "text": [
      "ROUND:  1\n",
      "Choose your gesture: rock\n",
      "cpu choice: paper\n",
      "The computer won\n",
      "ROUND:  2\n",
      "Choose your gesture: paper\n",
      "cpu choice: rock\n",
      "The player won\n",
      "ROUND:  3\n",
      "Choose your gesture: scissors\n",
      "cpu choice: rock\n",
      "The computer won\n",
      "ROUND:  4\n",
      "Choose your gesture: rock\n",
      "cpu choice: paper\n",
      "The computer won\n"
     ]
    }
   ],
   "source": [
    "cpu_score = 0\n",
    "player_score = 0\n",
    "\n",
    "for r in range(n_rounds):\n",
    "    print (\"ROUND: \", r+1)\n",
    "    announce_winner()\n",
    "    if cpu_score >= rounds_to_win:\n",
    "        break\n",
    "    elif player_score >= rounds_to_win:\n",
    "        break"
   ]
  },
  {
   "cell_type": "markdown",
   "metadata": {},
   "source": [
    "#### 11. Print the winner of the game based on who won more rounds.\n",
    "Remember that the game might be tied. "
   ]
  },
  {
   "cell_type": "code",
   "execution_count": 13,
   "metadata": {},
   "outputs": [
    {
     "name": "stdout",
     "output_type": "stream",
     "text": [
      "The computador won the game by 3-1\n"
     ]
    }
   ],
   "source": [
    "if cpu_score >= rounds_to_win:\n",
    "    print(\"The computador won the game by %d-%d\" %(cpu_score,player_score))\n",
    "elif player_score >= rounds_to_win:\n",
    "    print(\"The player won the game by %d-%d\" %(player_score,cpu_score))\n",
    "elif player_score == rounds_to_win:\n",
    "    print(\"It was a tie. Result: %d-%d\" %(player_score,cpu_score))\n",
    "else:\n",
    "    print (\"Nobody won. Result: Player %d; cpu %d\" %(player_score,cpu_score))"
   ]
  },
  {
   "cell_type": "markdown",
   "metadata": {},
   "source": [
    "# Bonus: Rock, Paper, Scissors, Lizard & Spock\n",
    "![](images/rpsls.jpg)\n",
    "\n",
    "In this challenge, you need to improve the previous game by adding two new options. To know more about the rules of the improved version of rock, paper, scissors, check this [link](http://www.samkass.com/theories/RPSSL.html). \n",
    "\n",
    "In addition, you will also need to improve how the game interacts with the player: the number of rounds to play, which must be an odd number, will be requested to the user until a valid number is entered. Define a new function to make that request.\n",
    "\n",
    "**Hint**: Try to reuse the code that you already coded in the previous challenge. If your code is efficient, this bonus will only consist of simple modifications to the original game."
   ]
  },
  {
   "cell_type": "code",
   "execution_count": 14,
   "metadata": {},
   "outputs": [
    {
     "name": "stdout",
     "output_type": "stream",
     "text": [
      "Choose the number of rounds to play: 7\n",
      "ROUND:  1\n",
      "Choose your gesture: scissors\n",
      "cpu choice: lizard\n",
      "The player won\n",
      "ROUND:  2\n",
      "Choose your gesture: lizard\n",
      "cpu choice: lizard\n",
      "It was a tie\n",
      "ROUND:  3\n",
      "Choose your gesture: spock\n",
      "cpu choice: rock\n",
      "The player won\n",
      "ROUND:  4\n",
      "Choose your gesture: spock\n",
      "cpu choice: paper\n",
      "The computer won\n",
      "ROUND:  5\n",
      "Choose your gesture: paper\n",
      "cpu choice: rock\n",
      "The player won\n",
      "ROUND:  6\n",
      "Choose your gesture: lizard\n",
      "cpu choice: paper\n",
      "The player won\n",
      "The winner is: \n",
      "The player won the game by 4-1\n"
     ]
    }
   ],
   "source": [
    "gestures = ['rock', 'paper', 'scissors', 'lizard', 'spock']\n",
    "\n",
    "def ask_number_rounds():\n",
    "    \"This function asks the player the number of rounds to play\"\n",
    "    global n_rounds \n",
    "    while True:\n",
    "        n_rounds = int(input('Choose the number of rounds to play: '))\n",
    "        if (n_rounds % 2) == 0:\n",
    "            print (\"Choose an odd number\")\n",
    "        else:\n",
    "            break\n",
    "    return\n",
    "\n",
    "def check_winner(player_choice, cpu_choice):\n",
    "    \"This functions checks who won a round\"\n",
    "    if player_choice == cpu_choice:\n",
    "        return (0)\n",
    "    if ((cpu_choice == \"rock\" and player_choice == \"scissors\") or\n",
    "        (cpu_choice == \"paper\" and player_choice == \"rock\") or \n",
    "        (cpu_choice == \"scissors\" and player_choice == \"paper\") or\n",
    "        (cpu_choice == \"lizard\" and player_choice == \"spock\") or\n",
    "        (cpu_choice == \"lizard\" and player_choice == \"paper\") or\n",
    "        (cpu_choice == \"spock\" and player_choice == \"scissors\") or\n",
    "        (cpu_choice == \"paper\" and player_choice == \"spock\") or\n",
    "        (cpu_choice == \"rock\" and player_choice == \"lizard\") or\n",
    "        (cpu_choice == \"scissors\" and player_choice == \"lizard\") or\n",
    "        (cpu_choice == \"spock\" and player_choice == \"rock\")):\n",
    "        return (1)\n",
    "    else:\n",
    "        return (2)\n",
    "\n",
    "ask_number_rounds()\n",
    "rounds_to_win = round((n_rounds/2)+0.01) \n",
    "        \n",
    "cpu_score = 0\n",
    "player_score = 0\n",
    "\n",
    "for r in range(n_rounds):\n",
    "    print (\"ROUND: \", r+1)\n",
    "    announce_winner()\n",
    "    if cpu_score >= rounds_to_win:\n",
    "        break\n",
    "    elif player_score >= rounds_to_win:\n",
    "        break\n",
    "\n",
    "print (\"The winner is: \")\n",
    "        \n",
    "if cpu_score >= rounds_to_win:\n",
    "    print(\"The computador won the game by %d-%d\" %(cpu_score,player_score))\n",
    "elif player_score >= rounds_to_win:\n",
    "    print(\"The player won the game by %d-%d\" %(player_score,cpu_score))\n",
    "elif player_score == rounds_to_win:\n",
    "    print(\"It was a tie. Result: %d-%d\" %(player_score,cpu_score))\n",
    "else:\n",
    "    print (\"Nobody won. Result: Player %d; cpu %d\" %(player_score,cpu_score))"
   ]
  }
 ],
 "metadata": {
  "kernelspec": {
   "display_name": "Python 3",
   "language": "python",
   "name": "python3"
  },
  "language_info": {
   "codemirror_mode": {
    "name": "ipython",
    "version": 3
   },
   "file_extension": ".py",
   "mimetype": "text/x-python",
   "name": "python",
   "nbconvert_exporter": "python",
   "pygments_lexer": "ipython3",
   "version": "3.7.4"
  }
 },
 "nbformat": 4,
 "nbformat_minor": 2
}
